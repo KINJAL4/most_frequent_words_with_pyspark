{
  "nbformat": 4,
  "nbformat_minor": 0,
  "metadata": {
    "accelerator": "GPU",
    "colab": {
      "name": "news_analysis_using _pyspark.ipynb",
      "provenance": [],
      "collapsed_sections": []
    },
    "kernelspec": {
      "display_name": "Python 3",
      "name": "python3"
    },
    "language_info": {
      "name": "python"
    }
  },
  "cells": [
    {
      "cell_type": "code",
      "metadata": {
        "id": "W8RWfRmPUzJo"
      },
      "source": [
        "#innstall java\n",
        "!apt-get install openjdk-8-jdk-headless -qq > /dev/null\n",
        "\n",
        "# install spark \n",
        "!wget -q https://archive.apache.org/dist/spark/spark-3.0.0/spark-3.0.0-bin-hadoop3.2.tgz\n",
        "\n",
        "# unzip the spark file to the current folder\n",
        "!tar xf spark-3.0.0-bin-hadoop3.2.tgz\n",
        "\n",
        "# set your spark folder to your system path environment. \n",
        "import os\n",
        "os.environ[\"JAVA_HOME\"] = \"/usr/lib/jvm/java-8-openjdk-amd64\"\n",
        "os.environ[\"SPARK_HOME\"] = \"/content/spark-3.0.0-bin-hadoop3.2\"\n",
        "\n",
        "\n",
        "# install findspark using pip\n",
        "!pip install -q findspark\n"
      ],
      "execution_count": 1,
      "outputs": []
    },
    {
      "cell_type": "markdown",
      "metadata": {
        "id": "8x46HDfa4LfF"
      },
      "source": [
        "### create a spark session.spark session allow us to access the features of spark through python"
      ]
    },
    {
      "cell_type": "code",
      "metadata": {
        "id": "UijnMEUmR29n"
      },
      "source": [
        "import findspark\n",
        "findspark.init()\n",
        "from pyspark.sql import SparkSession\n",
        "spark = SparkSession.builder.master(\"local[*]\").getOrCreate()"
      ],
      "execution_count": 2,
      "outputs": []
    },
    {
      "cell_type": "markdown",
      "metadata": {
        "id": "u5FnK-He5Fte"
      },
      "source": [
        "### importing necessary spark functinality and nltk tool-kit for text preprocessing"
      ]
    },
    {
      "cell_type": "code",
      "metadata": {
        "id": "a_bAe7hWU3JD"
      },
      "source": [
        "from pyspark.sql.functions import udf, col, lower, regexp_replace,concat,lit,split\n",
        "from pyspark.ml.feature import Tokenizer, StopWordsRemover\n",
        "import nltk\n",
        "import string\n",
        "import re\n",
        "from nltk.stem.snowball import SnowballStemmer \n",
        "from pyspark.sql.functions import udf\n",
        "import pyspark.sql.types as T\n",
        "import pyspark.sql.functions as F\n",
        "from nltk import pos_tag\n",
        "from nltk.stem import WordNetLemmatizer\n",
        "from nltk.corpus import stopwords\n",
        "from spacy.lang.en.stop_words import STOP_WORDS\n",
        "from itertools import filterfalse\n",
        "from nltk.corpus import wordnet as wn\n"
      ],
      "execution_count": 4,
      "outputs": []
    },
    {
      "cell_type": "markdown",
      "metadata": {
        "id": "wm21UsMA5Y5y"
      },
      "source": [
        "### loading data"
      ]
    },
    {
      "cell_type": "code",
      "metadata": {
        "id": "gOSt37DHSSID"
      },
      "source": [
        "!wget -q !wget  https://www.dropbox.com/s/cn2utnr5ipathhh/all-the-news-2-1.zip?dl=0\n"
      ],
      "execution_count": 5,
      "outputs": []
    },
    {
      "cell_type": "code",
      "metadata": {
        "id": "9vyBsD7ISs5B",
        "colab": {
          "base_uri": "https://localhost:8080/"
        },
        "outputId": "c0cbb9cb-1339-4f6d-d9a1-e859e5e390ca"
      },
      "source": [
        "! unzip /content/all-the-news-2-1.zip?dl=0\n"
      ],
      "execution_count": 6,
      "outputs": [
        {
          "output_type": "stream",
          "text": [
            "Archive:  /content/all-the-news-2-1.zip?dl=0\n",
            "  inflating: all-the-news-2-1.csv    \n"
          ],
          "name": "stdout"
        }
      ]
    },
    {
      "cell_type": "code",
      "metadata": {
        "id": "4tn5-qBZVWNN"
      },
      "source": [
        "data= spark.read.csv(\"/content/all-the-news-2-1.csv\",header=True,inferSchema=True)\n"
      ],
      "execution_count": 7,
      "outputs": []
    },
    {
      "cell_type": "code",
      "metadata": {
        "colab": {
          "base_uri": "https://localhost:8080/"
        },
        "id": "2rSn8ssqa0M0",
        "outputId": "dc7488a1-00cf-401b-8846-4ecd7856244a"
      },
      "source": [
        "data.show()"
      ],
      "execution_count": 8,
      "outputs": [
        {
          "output_type": "stream",
          "text": [
            "+--------------------+--------------------+-------------------+----------------+-----+----+--------------------+--------------------+--------------------+--------------------+--------------------+--------------------+\n",
            "|                 _c0|          Unnamed: 0|               date|            year|month| day|              author|               title|             article|                 url|             section|         publication|\n",
            "+--------------------+--------------------+-------------------+----------------+-----+----+--------------------+--------------------+--------------------+--------------------+--------------------+--------------------+\n",
            "|                   0|                   0|2016-12-09 18:31:00|            2016| 12.0|   9|         Lee Drutman|We should take co...|\"This post is par...|             however| several critics ...|         for example|\n",
            "|                   1|                   1|2016-10-07 21:26:46|            2016| 10.0|   7|         Scott Davis|Colts GM Ryan Gri...| The Indianapolis...|                null|                null|                null|\n",
            "|The highest-paid ...|https://www.busin...|               null|Business Insider| null|null|                null|                null|                null|                null|                null|                null|\n",
            "|                   2|                   2|2018-01-26 00:00:00|            2018|  1.0|  26|                null|Trump denies repo...|DAVOS, Switzerlan...|https://www.reute...|               Davos|             Reuters|\n",
            "|                   3|                   3|2019-06-27 00:00:00|            2019|  6.0|  27|                null|France's Sarkozy ...|PARIS (Reuters) -...|https://www.reute...|          World News|             Reuters|\n",
            "|                   4|                   4|2016-01-27 00:00:00|            2016|  1.0|  27|                null|Paris Hilton: Wom...|\"Paris Hilton arr...|https://www.tmz.c...|                null|                 TMZ|\n",
            "|                   5|                   5|2019-06-17 00:00:00|            2019|  6.0|  17|                null|ECB's Coeure: If ...|BERLIN, June 17 (...|                null|                null|                null|\n",
            "|Editing by Tassil...|https://www.reute...|         Financials|         Reuters| null|null|                null|                null|                null|                null|                null|                null|\n",
            "|                   6|                   6|2019-06-23 00:00:00|            2019|  6.0|  23|                null|Venezuela detains...|CARACAS (Reuters)...|https://www.reute...|          World News|             Reuters|\n",
            "|                   7|                   7|2018-05-02 17:09:00|            2018|  5.0|   2|   Caroline Williams|You Can Trick You...|\"If only every da...|\"\" DeGutis says. ...| paying attention...| it makes it easi...|\n",
            "|                   8|                   8|2016-05-18 13:00:06|            2016|  5.0|  18|         Mark Bergen|How to watch the ...|Google I/O, the c...|https://www.vox.c...|                null|                 Vox|\n",
            "|                   9|                   9|2017-03-02 00:00:00|            2017|  3.0|   2|            Tim Hume|China is dismissi...|China is dismissi...|https://news.vice...|                null|           Vice News|\n",
            "|                  10|                  10|2019-05-22 20:10:00|            2019|  5.0|  22|       Emily Stewart|“Elizabeth Warren...|Elizabeth Warren ...|https://www.vox.c...|                null|                 Vox|\n",
            "|                  11|                  11|2019-06-23 00:00:00|            2019|  6.0|  23|Jessica DiNapoli,...|Hudson's Bay's ch...|(Reuters) - The s...|https://www.reute...|       Business News|             Reuters|\n",
            "|                  12|                  12|2018-11-05 00:00:00|            2018| 11.0|   5|                null|Joakim Noah's Vic...|Joakim Noah's ﻿mo...|https://www.tmz.c...|                null|                 TMZ|\n",
            "|                  13|                  13|2019-05-10 00:00:00|            2019|  5.0|  10|                null|Jermaine Jackson ...|\"Jermaine Jackson...|\"\" \"\"Thriller\"\" a...| and the 2 will f...| Quincy isn't say...|\n",
            "|                  14|                  14|2019-03-28 00:00:00|            2019|  3.0|  28|                null|UK PM May presses...|LONDON (Reuters) ...|https://www.reute...|          World News|             Reuters|\n",
            "|                  15|                  15|2016-09-08 15:40:02|            2016|  9.0|   8|          Jeff Stein|Nancy Pelosi says...|\"Nancy Pelosi is ...|\"\" Skelley says. ...|           of course| but it begins lo...|\n",
            "|                  16|                  16|2017-01-11 23:10:01|            2017|  1.0|  11|        Libby Nelson|The government of...|The nonpartisan d...|https://www.vox.c...|                null|                 Vox|\n",
            "|                  17|                  17|2019-01-26 17:30:00|            2019|  1.0|  26|         Kurt Wagner|Mark Zuckerberg’s...|The threat of gov...|https://www.vox.c...|                null|                 Vox|\n",
            "+--------------------+--------------------+-------------------+----------------+-----+----+--------------------+--------------------+--------------------+--------------------+--------------------+--------------------+\n",
            "only showing top 20 rows\n",
            "\n"
          ],
          "name": "stdout"
        }
      ]
    },
    {
      "cell_type": "markdown",
      "metadata": {
        "id": "4D3xhKFW5fX-"
      },
      "source": [
        "### concatenet columns containg text for easy evaluation"
      ]
    },
    {
      "cell_type": "code",
      "metadata": {
        "id": "NEf5plbkcAAU"
      },
      "source": [
        "data = data.withColumn('text', F.concat(F.col('title'), F.col('article'))) "
      ],
      "execution_count": 9,
      "outputs": []
    },
    {
      "cell_type": "code",
      "metadata": {
        "colab": {
          "base_uri": "https://localhost:8080/"
        },
        "id": "97t6I-rweQYK",
        "outputId": "169778af-a789-4bf4-dcc9-64cd162e2a00"
      },
      "source": [
        "data.show()"
      ],
      "execution_count": 10,
      "outputs": [
        {
          "output_type": "stream",
          "text": [
            "+--------------------+--------------------+-------------------+----------------+-----+----+--------------------+--------------------+--------------------+--------------------+--------------------+--------------------+--------------------+\n",
            "|                 _c0|          Unnamed: 0|               date|            year|month| day|              author|               title|             article|                 url|             section|         publication|                text|\n",
            "+--------------------+--------------------+-------------------+----------------+-----+----+--------------------+--------------------+--------------------+--------------------+--------------------+--------------------+--------------------+\n",
            "|                   0|                   0|2016-12-09 18:31:00|            2016| 12.0|   9|         Lee Drutman|We should take co...|\"This post is par...|             however| several critics ...|         for example|We should take co...|\n",
            "|                   1|                   1|2016-10-07 21:26:46|            2016| 10.0|   7|         Scott Davis|Colts GM Ryan Gri...| The Indianapolis...|                null|                null|                null|Colts GM Ryan Gri...|\n",
            "|The highest-paid ...|https://www.busin...|               null|Business Insider| null|null|                null|                null|                null|                null|                null|                null|                null|\n",
            "|                   2|                   2|2018-01-26 00:00:00|            2018|  1.0|  26|                null|Trump denies repo...|DAVOS, Switzerlan...|https://www.reute...|               Davos|             Reuters|Trump denies repo...|\n",
            "|                   3|                   3|2019-06-27 00:00:00|            2019|  6.0|  27|                null|France's Sarkozy ...|PARIS (Reuters) -...|https://www.reute...|          World News|             Reuters|France's Sarkozy ...|\n",
            "|                   4|                   4|2016-01-27 00:00:00|            2016|  1.0|  27|                null|Paris Hilton: Wom...|\"Paris Hilton arr...|https://www.tmz.c...|                null|                 TMZ|Paris Hilton: Wom...|\n",
            "|                   5|                   5|2019-06-17 00:00:00|            2019|  6.0|  17|                null|ECB's Coeure: If ...|BERLIN, June 17 (...|                null|                null|                null|ECB's Coeure: If ...|\n",
            "|Editing by Tassil...|https://www.reute...|         Financials|         Reuters| null|null|                null|                null|                null|                null|                null|                null|                null|\n",
            "|                   6|                   6|2019-06-23 00:00:00|            2019|  6.0|  23|                null|Venezuela detains...|CARACAS (Reuters)...|https://www.reute...|          World News|             Reuters|Venezuela detains...|\n",
            "|                   7|                   7|2018-05-02 17:09:00|            2018|  5.0|   2|   Caroline Williams|You Can Trick You...|\"If only every da...|\"\" DeGutis says. ...| paying attention...| it makes it easi...|You Can Trick You...|\n",
            "|                   8|                   8|2016-05-18 13:00:06|            2016|  5.0|  18|         Mark Bergen|How to watch the ...|Google I/O, the c...|https://www.vox.c...|                null|                 Vox|How to watch the ...|\n",
            "|                   9|                   9|2017-03-02 00:00:00|            2017|  3.0|   2|            Tim Hume|China is dismissi...|China is dismissi...|https://news.vice...|                null|           Vice News|China is dismissi...|\n",
            "|                  10|                  10|2019-05-22 20:10:00|            2019|  5.0|  22|       Emily Stewart|“Elizabeth Warren...|Elizabeth Warren ...|https://www.vox.c...|                null|                 Vox|“Elizabeth Warren...|\n",
            "|                  11|                  11|2019-06-23 00:00:00|            2019|  6.0|  23|Jessica DiNapoli,...|Hudson's Bay's ch...|(Reuters) - The s...|https://www.reute...|       Business News|             Reuters|Hudson's Bay's ch...|\n",
            "|                  12|                  12|2018-11-05 00:00:00|            2018| 11.0|   5|                null|Joakim Noah's Vic...|Joakim Noah's ﻿mo...|https://www.tmz.c...|                null|                 TMZ|Joakim Noah's Vic...|\n",
            "|                  13|                  13|2019-05-10 00:00:00|            2019|  5.0|  10|                null|Jermaine Jackson ...|\"Jermaine Jackson...|\"\" \"\"Thriller\"\" a...| and the 2 will f...| Quincy isn't say...|Jermaine Jackson ...|\n",
            "|                  14|                  14|2019-03-28 00:00:00|            2019|  3.0|  28|                null|UK PM May presses...|LONDON (Reuters) ...|https://www.reute...|          World News|             Reuters|UK PM May presses...|\n",
            "|                  15|                  15|2016-09-08 15:40:02|            2016|  9.0|   8|          Jeff Stein|Nancy Pelosi says...|\"Nancy Pelosi is ...|\"\" Skelley says. ...|           of course| but it begins lo...|Nancy Pelosi says...|\n",
            "|                  16|                  16|2017-01-11 23:10:01|            2017|  1.0|  11|        Libby Nelson|The government of...|The nonpartisan d...|https://www.vox.c...|                null|                 Vox|The government of...|\n",
            "|                  17|                  17|2019-01-26 17:30:00|            2019|  1.0|  26|         Kurt Wagner|Mark Zuckerberg’s...|The threat of gov...|https://www.vox.c...|                null|                 Vox|Mark Zuckerberg’s...|\n",
            "+--------------------+--------------------+-------------------+----------------+-----+----+--------------------+--------------------+--------------------+--------------------+--------------------+--------------------+--------------------+\n",
            "only showing top 20 rows\n",
            "\n"
          ],
          "name": "stdout"
        }
      ]
    },
    {
      "cell_type": "markdown",
      "metadata": {
        "id": "gqPIvLfk5xsf"
      },
      "source": [
        "### droping another columns and keeps only combined text column"
      ]
    },
    {
      "cell_type": "code",
      "metadata": {
        "id": "Mxdkmrd0XbbO"
      },
      "source": [
        "data = data.drop(*data.columns[:12])"
      ],
      "execution_count": 11,
      "outputs": []
    },
    {
      "cell_type": "code",
      "metadata": {
        "colab": {
          "base_uri": "https://localhost:8080/"
        },
        "id": "c-mXQg24gm25",
        "outputId": "4c5e7aaf-c42b-461c-db79-0e939bebee12"
      },
      "source": [
        "data.show(truncate=100)"
      ],
      "execution_count": 12,
      "outputs": [
        {
          "output_type": "stream",
          "text": [
            "+----------------------------------------------------------------------------------------------------+\n",
            "|                                                                                                text|\n",
            "+----------------------------------------------------------------------------------------------------+\n",
            "|We should take concerns about the health of liberal democracy seriously\"This post is part of Poly...|\n",
            "|Colts GM Ryan Grigson says Andrew Luck's contract makes it difficult to build the team The Indian...|\n",
            "|                                                                                                null|\n",
            "|Trump denies report he ordered Mueller firedDAVOS, Switzerland (Reuters) - U.S. President Donald ...|\n",
            "|France's Sarkozy reveals his 'Passions' but insists no come-back on cardsPARIS (Reuters) - Former...|\n",
            "|Paris Hilton: Woman In Black For Uncle Monty's Funeral\"Paris Hilton arrived at LAX Wednesday dres...|\n",
            "|ECB's Coeure: If we decide to cut rates, we'd have to consider tieringBERLIN, June 17 (Reuters) -...|\n",
            "|                                                                                                null|\n",
            "|Venezuela detains six military, police officials: family members, activistsCARACAS (Reuters) - Ve...|\n",
            "|You Can Trick Your Brain Into Being More Focused\"If only every day could be like this. You can’t ...|\n",
            "|How to watch the Google I/O keynote liveGoogle I/O, the company's big developer conference, kicks...|\n",
            "|China is dismissing unfavorable media reports as fake because that's what Trump doesChina is dism...|\n",
            "|“Elizabeth Warren called me!” is turning into a Twitter memeElizabeth Warren is giving people a n...|\n",
            "|Hudson's Bay's chairman's buyout bid pits retail versus real estate(Reuters) - The success of Hud...|\n",
            "|Joakim Noah's Victoria Secret Model GF Lais Ribeiro Rocks Thong Bikini In MalibuJoakim Noah's ﻿mo...|\n",
            "|Jermaine Jackson Rips Quincy Jones For Scrubbing Michael's Name From Show\"Jermaine Jackson ﻿is sl...|\n",
            "|UK PM May presses on with bid to get Brexit deal through parliament: spokesmanLONDON (Reuters) - ...|\n",
            "|Nancy Pelosi says a Clinton landslide could put the House in play. The math backs her up.\"Nancy P...|\n",
            "|The government official in charge of ethics just harshly condemned Trump’s planThe nonpartisan di...|\n",
            "|Mark Zuckerberg’s WSJ op-ed was a message to would-be regulators: Hands off our ad businessThe th...|\n",
            "+----------------------------------------------------------------------------------------------------+\n",
            "only showing top 20 rows\n",
            "\n"
          ],
          "name": "stdout"
        }
      ]
    },
    {
      "cell_type": "markdown",
      "metadata": {
        "id": "R5jO96lC597O"
      },
      "source": [
        "### droping null values within the column"
      ]
    },
    {
      "cell_type": "code",
      "metadata": {
        "id": "fyfgdXKiozZ8"
      },
      "source": [
        "data = data.dropna()"
      ],
      "execution_count": 13,
      "outputs": []
    },
    {
      "cell_type": "code",
      "metadata": {
        "colab": {
          "base_uri": "https://localhost:8080/"
        },
        "id": "G2Pa0u16Hdr7",
        "outputId": "6cb90270-9ba0-4853-b595-5522db5269a0"
      },
      "source": [
        "data.show()"
      ],
      "execution_count": 14,
      "outputs": [
        {
          "output_type": "stream",
          "text": [
            "+--------------------+\n",
            "|                text|\n",
            "+--------------------+\n",
            "|We should take co...|\n",
            "|Colts GM Ryan Gri...|\n",
            "|Trump denies repo...|\n",
            "|France's Sarkozy ...|\n",
            "|Paris Hilton: Wom...|\n",
            "|ECB's Coeure: If ...|\n",
            "|Venezuela detains...|\n",
            "|You Can Trick You...|\n",
            "|How to watch the ...|\n",
            "|China is dismissi...|\n",
            "|“Elizabeth Warren...|\n",
            "|Hudson's Bay's ch...|\n",
            "|Joakim Noah's Vic...|\n",
            "|Jermaine Jackson ...|\n",
            "|UK PM May presses...|\n",
            "|Nancy Pelosi says...|\n",
            "|The government of...|\n",
            "|Mark Zuckerberg’s...|\n",
            "|Girl Scouts Are T...|\n",
            "|An Animated Maste...|\n",
            "+--------------------+\n",
            "only showing top 20 rows\n",
            "\n"
          ],
          "name": "stdout"
        }
      ]
    },
    {
      "cell_type": "code",
      "metadata": {
        "id": "N5BTBEvpdOam"
      },
      "source": [
        "returnType=T.ArrayType(T.StringType())"
      ],
      "execution_count": 15,
      "outputs": []
    },
    {
      "cell_type": "markdown",
      "metadata": {
        "id": "qS58jkcg6KqS"
      },
      "source": [
        "###text cleaning"
      ]
    },
    {
      "cell_type": "code",
      "metadata": {
        "id": "8cKG9Pv3nswd"
      },
      "source": [
        "#Clean text\n",
        "df_clean = data.select (lower(regexp_replace('text', \"[^a-zA-Z\\\\s]\", \"\")).alias('text'))\n",
        "\n"
      ],
      "execution_count": 16,
      "outputs": []
    },
    {
      "cell_type": "code",
      "metadata": {
        "colab": {
          "base_uri": "https://localhost:8080/"
        },
        "id": "ULsI16vQjVJl",
        "outputId": "119bcc23-5150-4cfb-be8b-2a022b1ae3c8"
      },
      "source": [
        "df_clean.show()"
      ],
      "execution_count": 17,
      "outputs": [
        {
          "output_type": "stream",
          "text": [
            "+--------------------+\n",
            "|                text|\n",
            "+--------------------+\n",
            "|we should take co...|\n",
            "|colts gm ryan gri...|\n",
            "|trump denies repo...|\n",
            "|frances sarkozy r...|\n",
            "|paris hilton woma...|\n",
            "|ecbs coeure if we...|\n",
            "|venezuela detains...|\n",
            "|you can trick you...|\n",
            "|how to watch the ...|\n",
            "|china is dismissi...|\n",
            "|elizabeth warren ...|\n",
            "|hudsons bays chai...|\n",
            "|joakim noahs vict...|\n",
            "|jermaine jackson ...|\n",
            "|uk pm may presses...|\n",
            "|nancy pelosi says...|\n",
            "|the government of...|\n",
            "|mark zuckerbergs ...|\n",
            "|girl scouts are t...|\n",
            "|an animated maste...|\n",
            "+--------------------+\n",
            "only showing top 20 rows\n",
            "\n"
          ],
          "name": "stdout"
        }
      ]
    },
    {
      "cell_type": "code",
      "metadata": {
        "id": "eccNObBPjSpH"
      },
      "source": [
        "# Tokenize text\n",
        "tokenizer = Tokenizer(inputCol='text', outputCol='words_token')\n",
        "df_words_token = tokenizer.transform(df_clean).select('words_token')\n"
      ],
      "execution_count": 18,
      "outputs": []
    },
    {
      "cell_type": "code",
      "metadata": {
        "id": "WHf3K48FJKIt"
      },
      "source": [
        "\n",
        "# Remove stop words\n",
        "remover = StopWordsRemover(inputCol='words_token', outputCol='words_clean')\n",
        "df_words_no_stopw = remover.transform(df_words_token).select('words_clean')\n"
      ],
      "execution_count": 19,
      "outputs": []
    },
    {
      "cell_type": "code",
      "metadata": {
        "id": "xUBwo1Edq0V8"
      },
      "source": [
        "#stem_text\n",
        "stemmer = SnowballStemmer(language='english')\n",
        "stemmer_udf = udf(lambda tokens: [stemmer.stem(token) for token in tokens], returnType)\n",
        "df_stemmed = df_words_no_stopw.withColumn(\"words_stemmed\",stemmer_udf(\"words_clean\")).select('words_stemmed')\n"
      ],
      "execution_count": 20,
      "outputs": []
    },
    {
      "cell_type": "code",
      "metadata": {
        "id": "b7PvsQ2RwLTt"
      },
      "source": [
        "\n",
        "# Filter length word > 3\n",
        "filter_length_udf = udf(lambda row: [x for x in row if len(x) >= 3], returnType)\n",
        "df_final_words = df_stemmed.withColumn('words', filter_length_udf(col('words_stemmed')))\n"
      ],
      "execution_count": 21,
      "outputs": []
    },
    {
      "cell_type": "code",
      "metadata": {
        "colab": {
          "base_uri": "https://localhost:8080/"
        },
        "id": "p3ndXL9UhqHp",
        "outputId": "1d973b63-c330-4098-acc8-4e44da0a4fc9"
      },
      "source": [
        "df_final_words.show()"
      ],
      "execution_count": 22,
      "outputs": [
        {
          "output_type": "stream",
          "text": [
            "+--------------------+--------------------+\n",
            "|       words_stemmed|               words|\n",
            "+--------------------+--------------------+\n",
            "|[take, concern, h...|[take, concern, h...|\n",
            "|[colt, gm, ryan, ...|[colt, ryan, grig...|\n",
            "|[trump, deni, rep...|[trump, deni, rep...|\n",
            "|[franc, sarkozi, ...|[franc, sarkozi, ...|\n",
            "|[pari, hilton, wo...|[pari, hilton, wo...|\n",
            "|[ecb, coeur, deci...|[ecb, coeur, deci...|\n",
            "|[venezuela, detai...|[venezuela, detai...|\n",
            "|[trick, brain, fo...|[trick, brain, fo...|\n",
            "|[watch, googl, io...|[watch, googl, ke...|\n",
            "|[china, dismiss, ...|[china, dismiss, ...|\n",
            "|[elizabeth, warre...|[elizabeth, warre...|\n",
            "|[hudson, bay, cha...|[hudson, bay, cha...|\n",
            "|[joakim, noah, vi...|[joakim, noah, vi...|\n",
            "|[jermain, jackson...|[jermain, jackson...|\n",
            "|[uk, pm, may, pre...|[may, press, bid,...|\n",
            "|[nanci, pelosi, s...|[nanci, pelosi, s...|\n",
            "|[govern, offici, ...|[govern, offici, ...|\n",
            "|[mark, zuckerberg...|[mark, zuckerberg...|\n",
            "|[girl, scout, tra...|[girl, scout, tra...|\n",
            "|[anim, masterpiec...|[anim, masterpiec...|\n",
            "+--------------------+--------------------+\n",
            "only showing top 20 rows\n",
            "\n"
          ],
          "name": "stdout"
        }
      ]
    },
    {
      "cell_type": "code",
      "metadata": {
        "id": "XLK0wqrByiQX"
      },
      "source": [
        "df = df_final_words.drop(\"words_stemmed\")\n"
      ],
      "execution_count": 23,
      "outputs": []
    },
    {
      "cell_type": "code",
      "metadata": {
        "colab": {
          "base_uri": "https://localhost:8080/"
        },
        "id": "aXQcuJWjy9dJ",
        "outputId": "8e6ac5bf-05bb-485f-e8db-121d93f8782e"
      },
      "source": [
        "df.show()"
      ],
      "execution_count": 24,
      "outputs": [
        {
          "output_type": "stream",
          "text": [
            "+--------------------+\n",
            "|               words|\n",
            "+--------------------+\n",
            "|[take, concern, h...|\n",
            "|[colt, ryan, grig...|\n",
            "|[trump, deni, rep...|\n",
            "|[franc, sarkozi, ...|\n",
            "|[pari, hilton, wo...|\n",
            "|[ecb, coeur, deci...|\n",
            "|[venezuela, detai...|\n",
            "|[trick, brain, fo...|\n",
            "|[watch, googl, ke...|\n",
            "|[china, dismiss, ...|\n",
            "|[elizabeth, warre...|\n",
            "|[hudson, bay, cha...|\n",
            "|[joakim, noah, vi...|\n",
            "|[jermain, jackson...|\n",
            "|[may, press, bid,...|\n",
            "|[nanci, pelosi, s...|\n",
            "|[govern, offici, ...|\n",
            "|[mark, zuckerberg...|\n",
            "|[girl, scout, tra...|\n",
            "|[anim, masterpiec...|\n",
            "+--------------------+\n",
            "only showing top 20 rows\n",
            "\n"
          ],
          "name": "stdout"
        }
      ]
    },
    {
      "cell_type": "code",
      "metadata": {
        "id": "pkwfA_glziJG"
      },
      "source": [
        "from pyspark.sql.functions import explode,col\n",
        "words = df.withColumn('exploded_words', explode(col('words')))\n"
      ],
      "execution_count": 25,
      "outputs": []
    },
    {
      "cell_type": "code",
      "metadata": {
        "id": "SKxZk71xziRq"
      },
      "source": [
        "data=words.drop('words')"
      ],
      "execution_count": 26,
      "outputs": []
    },
    {
      "cell_type": "code",
      "metadata": {
        "colab": {
          "base_uri": "https://localhost:8080/"
        },
        "id": "jQzTtlkR5H99",
        "outputId": "c819b48f-ca52-4fd5-a657-e6c64601c4c5"
      },
      "source": [
        "data.show()"
      ],
      "execution_count": 27,
      "outputs": [
        {
          "output_type": "stream",
          "text": [
            "+--------------+\n",
            "|exploded_words|\n",
            "+--------------+\n",
            "|          take|\n",
            "|       concern|\n",
            "|        health|\n",
            "|         liber|\n",
            "|     democraci|\n",
            "|  seriouslythi|\n",
            "|          post|\n",
            "|          part|\n",
            "|     polyarchi|\n",
            "|      independ|\n",
            "|          blog|\n",
            "|        produc|\n",
            "|         polit|\n",
            "|        reform|\n",
            "|       program|\n",
            "|           new|\n",
            "|       america|\n",
            "|    washington|\n",
            "|         think|\n",
            "|          tank|\n",
            "+--------------+\n",
            "only showing top 20 rows\n",
            "\n"
          ],
          "name": "stdout"
        }
      ]
    },
    {
      "cell_type": "markdown",
      "metadata": {
        "id": "W30IbKr66spU"
      },
      "source": [
        "### grouping the words "
      ]
    },
    {
      "cell_type": "code",
      "metadata": {
        "id": "02mbo0uuziVT"
      },
      "source": [
        "words_count = data.groupby(\"exploded_words\").count()"
      ],
      "execution_count": 28,
      "outputs": []
    },
    {
      "cell_type": "markdown",
      "metadata": {
        "id": "vF-IYxdN7Vyx"
      },
      "source": [
        "### top 100 most occuring word"
      ]
    },
    {
      "cell_type": "code",
      "metadata": {
        "id": "NHNJxMxXziac",
        "colab": {
          "base_uri": "https://localhost:8080/"
        },
        "outputId": "0bfaec19-0e61-4bc1-f766-ad5e86377a8c"
      },
      "source": [
        "most_frequent_words=words_count.orderBy(\"count\",ascending=False).show(100)\n"
      ],
      "execution_count": 29,
      "outputs": [
        {
          "output_type": "stream",
          "text": [
            "+--------------+-------+\n",
            "|exploded_words|  count|\n",
            "+--------------+-------+\n",
            "|          said|4942494|\n",
            "|          year|2566917|\n",
            "|           new|2364457|\n",
            "|         trump|2213562|\n",
            "|           one|2118739|\n",
            "|          like|1944089|\n",
            "|        report|1904708|\n",
            "|          time|1755639|\n",
            "|         peopl|1722846|\n",
            "|       compani|1708532|\n",
            "|          also|1705723|\n",
            "|           say|1671660|\n",
            "|         state|1609934|\n",
            "|         first|1329130|\n",
            "|        presid|1324947|\n",
            "|          make|1314710|\n",
            "|       percent|1294333|\n",
            "|          last|1272743|\n",
            "|          work|1251001|\n",
            "|           get|1242233|\n",
            "|           two|1225066|\n",
            "|       million|1164004|\n",
            "|           use|1157855|\n",
            "|        reuter|1064547|\n",
            "|           day|1052805|\n",
            "|          week|1019983|\n",
            "|        includ|1002771|\n",
            "|          take| 967602|\n",
            "|          even| 951963|\n",
            "|          show| 940870|\n",
            "|        govern| 929440|\n",
            "|         month| 923949|\n",
            "|          call| 907596|\n",
            "|          want| 904137|\n",
            "|          back| 893424|\n",
            "|          hous| 893167|\n",
            "|           may| 872264|\n",
            "|        market| 864788|\n",
            "|          come| 853081|\n",
            "|       countri| 849486|\n",
            "|         world| 836718|\n",
            "|           way| 828565|\n",
            "|         share| 823033|\n",
            "|          mani| 816648|\n",
            "|      democrat| 799734|\n",
            "|          unit| 798525|\n",
            "|         group| 796670|\n",
            "|          told| 793487|\n",
            "|        nation| 784597|\n",
            "|          look| 784555|\n",
            "|          sinc| 779624|\n",
            "|          plan| 772970|\n",
            "|          need| 759722|\n",
            "|         right| 741372|\n",
            "|           see| 741105|\n",
            "|          bank| 736477|\n",
            "|          help| 732953|\n",
            "|        accord| 730284|\n",
            "|       billion| 721405|\n",
            "|         think| 720014|\n",
            "|         point| 710015|\n",
            "|         still| 701342|\n",
            "|          made| 700863|\n",
            "|      american| 700684|\n",
            "|          news| 695417|\n",
            "|       support| 685957|\n",
            "|           end| 685624|\n",
            "|         chang| 681725|\n",
            "|          much| 677043|\n",
            "|         china| 671479|\n",
            "|          well| 667247|\n",
            "|        expect| 664337|\n",
            "|          part| 662403|\n",
            "|         start| 662178|\n",
            "|          busi| 659493|\n",
            "|        public| 655784|\n",
            "|        offici| 651173|\n",
            "|         trade| 647678|\n",
            "|          know| 644653|\n",
            "|          deal| 637519|\n",
            "|          rate| 628255|\n",
            "|         thing| 624223|\n",
            "|         three| 623507|\n",
            "|          citi| 619139|\n",
            "|         price| 615794|\n",
            "|          dont| 615778|\n",
            "|         offic| 612085|\n",
            "|        around| 610470|\n",
            "|          game| 609623|\n",
            "|          york| 608170|\n",
            "|         polit| 590784|\n",
            "|          edit| 582946|\n",
            "|          live| 581824|\n",
            "|          home| 579517|\n",
            "|          good| 573865|\n",
            "|        recent| 571043|\n",
            "|        former| 569520|\n",
            "|          case| 568459|\n",
            "|    republican| 562691|\n",
            "|          move| 558520|\n",
            "+--------------+-------+\n",
            "only showing top 100 rows\n",
            "\n"
          ],
          "name": "stdout"
        }
      ]
    },
    {
      "cell_type": "code",
      "metadata": {
        "id": "Xt4eHFL1_ySv"
      },
      "source": [
        ""
      ],
      "execution_count": null,
      "outputs": []
    }
  ]
}